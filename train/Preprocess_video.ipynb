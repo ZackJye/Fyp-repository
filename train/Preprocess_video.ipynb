{
  "nbformat": 4,
  "nbformat_minor": 0,
  "metadata": {
    "colab": {
      "name": "Preprocess_video.ipynb",
      "provenance": [],
      "collapsed_sections": []
    },
    "kernelspec": {
      "name": "python3",
      "display_name": "Python 3"
    }
  },
  "cells": [
    {
      "cell_type": "markdown",
      "metadata": {
        "id": "Xi3GzPsb3pCc",
        "colab_type": "text"
      },
      "source": [
        "### Audio Data Pre-preocessing \n"
      ]
    },
    {
      "cell_type": "code",
      "metadata": {
        "id": "VIsOnSk_3X4C",
        "colab_type": "code",
        "colab": {
          "base_uri": "https://localhost:8080/",
          "height": 34
        },
        "outputId": "afcbb8c6-7768-422a-962c-c0cf7f189196"
      },
      "source": [
        "import librosa\n",
        "import pandas as pd\n",
        "import numpy as np\n",
        "import matplotlib.pyplot as plt\n",
        "%matplotlib inline\n",
        "import os\n",
        "import zipfile\n",
        "import csv\n",
        "# Preprocessing\n",
        "from sklearn.model_selection import train_test_split\n",
        "from sklearn.preprocessing import LabelEncoder, StandardScaler\n",
        "import scipy.io.wavfile as wav\n",
        "#Keras\n",
        "import keras"
      ],
      "execution_count": 1,
      "outputs": [
        {
          "output_type": "stream",
          "text": [
            "Using TensorFlow backend.\n"
          ],
          "name": "stderr"
        }
      ]
    },
    {
      "cell_type": "code",
      "metadata": {
        "id": "jhBQxRsu4mvi",
        "colab_type": "code",
        "colab": {}
      },
      "source": [
        "file_path =\"\""
      ],
      "execution_count": 0,
      "outputs": []
    },
    {
      "cell_type": "markdown",
      "metadata": {
        "id": "WxPklRdl5HvB",
        "colab_type": "text"
      },
      "source": [
        "### Process mp4 into wav format"
      ]
    },
    {
      "cell_type": "code",
      "metadata": {
        "id": "RY6H3WGq4f_v",
        "colab_type": "code",
        "colab": {}
      },
      "source": [
        "\n",
        "entries2=os.listdir(file_path)\n",
        "for entry in entries:\n",
        "        entries2=os.listdir(file_path+entry+'/')\n",
        "        for file_name in entries2:\n",
        "          file_name=(file_name.split('.mp4'))[0]\n",
        "          try:\n",
        "              if not os.path.exists('VoiceData/trainingData/'):\n",
        "                  os.makedirs('VoiceData/trainingData/')\n",
        "          except OSError:\n",
        "              print ('Error: Creating directory of data')\n",
        "          command = \"ffmpeg -i {}/{}/{}.mp4 -ab 320k -ac 2 -ar 44100 -vn VoiceData/trainingData/{}.wav\".format(file_path,entry,file_name,file_name)    \n",
        "          subprocess.call(command, shell=True)\n",
        "          print(\"Done\")"
      ],
      "execution_count": 0,
      "outputs": []
    },
    {
      "cell_type": "code",
      "metadata": {
        "id": "PHJTxw8j5T_J",
        "colab_type": "code",
        "colab": {}
      },
      "source": [
        "header = 'filename chroma_stft rmse spectral_centroid spectral_bandwidth rolloff zero_crossing_rate logfbank'\n",
        "for i in range(1, 21):\n",
        "    header += f' mfcc{i}'\n",
        "header = header.split()"
      ],
      "execution_count": 0,
      "outputs": []
    },
    {
      "cell_type": "code",
      "metadata": {
        "id": "yDdyZ0Ue5Mvh",
        "colab_type": "code",
        "colab": {}
      },
      "source": [
        "file = open('data.csv', 'w', newline='')\n",
        "with file:\n",
        "    writer = csv.writer(file)\n",
        "    writer.writerow(header)\n",
        "entries=os.listdir('VoiceData/trainingData')\n",
        "for entry in entries:\n",
        "    for filename in os.listdir(f'VoiceData/trainingData/{entry}/'):\n",
        "        songname = f'VoiceData/trainingData/{entry}/{filename}'\n",
        "        y, sr = librosa.load(songname, mono=True, duration=7)\n",
        "        chroma_stft = librosa.feature.chroma_stft(y=y, sr=sr)\n",
        "        rmse = librosa.feature.rmse(y=y)\n",
        "        spec_cent = librosa.feature.spectral_centroid(y=y, sr=sr)\n",
        "        spec_bw = librosa.feature.spectral_bandwidth(y=y, sr=sr)\n",
        "        rolloff = librosa.feature.spectral_rolloff(y=y, sr=sr)\n",
        "        zcr = librosa.feature.zero_crossing_rate(y)\n",
        "        mfcc = librosa.feature.mfcc(y=y, sr=sr)\n",
        "        to_append = f'{filename} {np.mean(chroma_stft)} {np.mean(rmse)} {np.mean(spec_cent)} {np.mean(spec_bw)} {np.mean(rolloff)} {np.mean(zcr)}'    \n",
        "        for e in mfcc:\n",
        "            to_append += f' {np.mean(e)}'\n",
        "        file = open('data.csv', 'a', newline='')\n",
        "        with file:\n",
        "            writer = csv.writer(file)\n",
        "            writer.writerow(to_append.split())\n",
        "    print('Done')"
      ],
      "execution_count": 0,
      "outputs": []
    },
    {
      "cell_type": "code",
      "metadata": {
        "id": "a86a7x1e6m9U",
        "colab_type": "code",
        "colab": {}
      },
      "source": [
        "import pandas as pd\n",
        "df = pd.read_csv('training_gt.csv')\n",
        "df1 = pd.read_csv('data.csv')"
      ],
      "execution_count": 0,
      "outputs": []
    },
    {
      "cell_type": "code",
      "metadata": {
        "id": "GCFycG4A7YF5",
        "colab_type": "code",
        "colab": {}
      },
      "source": [
        "df['VideoName']=df[\"VideoName\"].str.slice(0, -4)\n",
        "df1['filename']=df[\"VideoName\"].str.slice(0, -4)"
      ],
      "execution_count": 0,
      "outputs": []
    },
    {
      "cell_type": "code",
      "metadata": {
        "id": "iBE6nE0J7e5h",
        "colab_type": "code",
        "colab": {}
      },
      "source": [
        "result = pd.merge(df1, df2, on=['VideoName','filename'])"
      ],
      "execution_count": 0,
      "outputs": []
    },
    {
      "cell_type": "code",
      "metadata": {
        "id": "RjKz4IN57orx",
        "colab_type": "code",
        "colab": {}
      },
      "source": [
        "result.to_csv (r'audio_training.csv', index = False, header=True)"
      ],
      "execution_count": 0,
      "outputs": []
    },
    {
      "cell_type": "markdown",
      "metadata": {
        "id": "7See5r6T7mEx",
        "colab_type": "text"
      },
      "source": [
        "### Visual feature extraction"
      ]
    },
    {
      "cell_type": "code",
      "metadata": {
        "id": "kGOMSKgV7t2k",
        "colab_type": "code",
        "colab": {}
      },
      "source": [
        "import cv2\n",
        "import numpy as np\n",
        "import os\n",
        "import zipfile\n",
        "\n",
        "entries=os.listdir(file_path)\n",
        "for entry in entries:\n",
        "    if __name__ == '__main__' :\n",
        "        entries2=os.listdir(file_path+entry)\n",
        "        for item in entries2:\n",
        "            cap = cv2.VideoCapture(file_path+'/'+str(entry)+'/'+item);\n",
        "            fps = cap.get(cv2.CAP_PROP_FPS)\n",
        "            l_test=(int(fps)*7)  # get seven second of video\n",
        "            l4=np.linspace(1,l_test,15).astype(int)  ## take equally from 7 second\n",
        "            \n",
        "            file_name=(item.split('.mp4'))[0]\n",
        "            try:\n",
        "              if not os.path.exists('ImageData/training_15/'):\n",
        "                  os.makedirs('ImageData/training_15/')\n",
        "          except OSError:\n",
        "              print ('Error: Creating directory of data')\n",
        "           \n",
        "\n",
        "\n",
        "            ## Setting the frame limit to 210\n",
        "            cap.set(cv2.CAP_PROP_FRAME_COUNT, 210)\n",
        "            length=430\n",
        "            count=0\n",
        "            name_count=1\n",
        "            ## Running a loop to each frame and saving it in the created folder\n",
        "            while(cap.isOpened()):\n",
        "                count+=1\n",
        "                if length==count:\n",
        "                    break\n",
        "                ret, frame = cap.read()\n",
        "                if frame is None:\n",
        "                    continue\n",
        "\n",
        "                ## Resizing it to 224*224 to save the disk space and fit into the model\n",
        "                if(count in (l4)):\n",
        "                    frame = cv2.resize(frame,(224, 224))\n",
        "                # Saves image of the current frame in jpg file\n",
        "                    name = '/ImageData/training_15/'+str(file_name)+'_' + str(name_count) + '.jpg'\n",
        "                    name_count+=1\n",
        "                    cv2.imwrite(name, frame)\n",
        "\n",
        "                    if cv2.waitKey(1) & 0xFF == ord('q'):\n",
        "                        break\n",
        "            if(name_count!=16):\n",
        "                print(item)\n",
        "                less_35.append(item)\n",
        "        print('complete'+str(entry))\n"
      ],
      "execution_count": 0,
      "outputs": []
    }
  ]
}