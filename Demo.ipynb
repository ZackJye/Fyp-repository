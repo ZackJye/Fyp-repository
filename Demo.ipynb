{
  "nbformat": 4,
  "nbformat_minor": 0,
  "metadata": {
    "colab": {
      "name": "Demo.ipynb",
      "provenance": []
    },
    "kernelspec": {
      "name": "python3",
      "display_name": "Python 3"
    },
    "accelerator": "GPU"
  },
  "cells": [
    {
      "cell_type": "code",
      "metadata": {
        "id": "FeVAA8wNd7pS",
        "colab_type": "code",
        "outputId": "45b4323f-b5b2-4406-85fd-08850140baf4",
        "colab": {
          "base_uri": "https://localhost:8080/",
          "height": 34
        }
      },
      "source": [
        "from model import *\n",
        "from preprocess import *\n",
        "from PIL import Image \n",
        "import torchvision.transforms as transforms\n",
        "import os\n",
        "import torch\n",
        "import torchvision\n",
        "import numpy as np\n",
        "from torchvision import transforms, utils\n",
        "import pandas as pd\n",
        "from torch.nn import functional as F\n",
        "from sklearn.metrics import accuracy_score\n",
        "from sklearn.model_selection import train_test_split\n",
        "from sklearn.utils import shuffle\n",
        "import torch.nn as nn\n",
        "import torchvision.transforms as transforms\n",
        "import torch.utils.data as data\n",
        "import torchvision\n",
        "from skimage.io import imread\n",
        "from skimage import io, transform\n",
        "from PIL import Image "
      ],
      "execution_count": 1,
      "outputs": [
        {
          "output_type": "stream",
          "text": [
            "Using TensorFlow backend.\n"
          ],
          "name": "stderr"
        }
      ]
    },
    {
      "cell_type": "code",
      "metadata": {
        "id": "3ll2d15KeAb0",
        "colab_type": "code",
        "colab": {}
      },
      "source": [
        "def getModel():\n",
        "  model=MyResnet()\n",
        "  cnn_encoder = ResCNNEncoder(model,fc_hidden1=CNN_fc_hidden1, fc_hidden2=CNN_fc_hidden2, drop_p=0.5, CNN_embed_dim=CNN_embed_dim).to(device)\n",
        "  rnn_decoder = DecoderRNN(CNN_embed_dim=CNN_embed_dim, h_RNN_layers=RNN_hidden_layers, h_RNN=RNN_hidden_nodes, \n",
        "                         h_FC_dim=RNN_FC_dim, drop_p=0.5, num_classes=k).to(device)\n",
        "  model_audio=Audio()\n",
        "  model_ensemble=MyEnsemble(modelA=model_audio,modelB=cnn_encoder,modelC=rnn_decoder) \n",
        "  return model_ensemble"
      ],
      "execution_count": 0,
      "outputs": []
    },
    {
      "cell_type": "code",
      "metadata": {
        "id": "411wQHaFeBgu",
        "colab_type": "code",
        "colab": {}
      },
      "source": [
        "getWav(filename=\"Demo.mp4\",rootdir=\"/content\")\n",
        "audio_fea = getAudioFeature(filename=\"Demo.mp4.wav\",rootdir='/content')\n",
        "processImage(filename='Demo.mp4',rootdir='/content',destdir='/content/DemoImage/')"
      ],
      "execution_count": 0,
      "outputs": []
    },
    {
      "cell_type": "code",
      "metadata": {
        "id": "1fZdS76Q4Rkq",
        "colab_type": "code",
        "colab": {}
      },
      "source": [
        "model=getModel()"
      ],
      "execution_count": 0,
      "outputs": []
    },
    {
      "cell_type": "code",
      "metadata": {
        "id": "sDfuFBCEyXFu",
        "colab_type": "code",
        "colab": {
          "base_uri": "https://localhost:8080/",
          "height": 34
        },
        "outputId": "965d0461-f65f-4897-f604-05541c62eae0"
      },
      "source": [
        "model.load_state_dict(torch.load(\"/content/drive/My Drive/model_ensemble4.pt\",map_location=torch.device('cpu')))"
      ],
      "execution_count": 5,
      "outputs": [
        {
          "output_type": "execute_result",
          "data": {
            "text/plain": [
              "<All keys matched successfully>"
            ]
          },
          "metadata": {
            "tags": []
          },
          "execution_count": 5
        }
      ]
    },
    {
      "cell_type": "code",
      "metadata": {
        "id": "7OsYxK0s3bLR",
        "colab_type": "code",
        "colab": {}
      },
      "source": [
        "Y = getResult('/content/DemoImage',image_name='Demo',audio=audio_fea,model=model.to(device))"
      ],
      "execution_count": 0,
      "outputs": []
    },
    {
      "cell_type": "code",
      "metadata": {
        "id": "JEDjfu2C3gUO",
        "colab_type": "code",
        "colab": {}
      },
      "source": [
        ""
      ],
      "execution_count": 0,
      "outputs": []
    }
  ]
}